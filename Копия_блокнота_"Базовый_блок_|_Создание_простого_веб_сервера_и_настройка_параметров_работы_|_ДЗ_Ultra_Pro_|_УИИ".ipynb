{
  "nbformat": 4,
  "nbformat_minor": 0,
  "metadata": {
    "colab": {
      "name": "Копия блокнота \"Базовый блок | Создание простого веб-сервера и настройка параметров работы | ДЗ Ultra Pro | УИИ\"",
      "provenance": [],
      "collapsed_sections": [],
      "include_colab_link": true
    },
    "kernelspec": {
      "name": "python3",
      "display_name": "Python 3"
    },
    "language_info": {
      "name": "python"
    }
  },
  "cells": [
    {
      "cell_type": "markdown",
      "metadata": {
        "id": "view-in-github",
        "colab_type": "text"
      },
      "source": [
        "<a href=\"https://colab.research.google.com/github/Salstek22/project/blob/main/%D0%9A%D0%BE%D0%BF%D0%B8%D1%8F_%D0%B1%D0%BB%D0%BE%D0%BA%D0%BD%D0%BE%D1%82%D0%B0_%22%D0%91%D0%B0%D0%B7%D0%BE%D0%B2%D1%8B%D0%B9_%D0%B1%D0%BB%D0%BE%D0%BA_%7C_%D0%A1%D0%BE%D0%B7%D0%B4%D0%B0%D0%BD%D0%B8%D0%B5_%D0%BF%D1%80%D0%BE%D1%81%D1%82%D0%BE%D0%B3%D0%BE_%D0%B2%D0%B5%D0%B1_%D1%81%D0%B5%D1%80%D0%B2%D0%B5%D1%80%D0%B0_%D0%B8_%D0%BD%D0%B0%D1%81%D1%82%D1%80%D0%BE%D0%B9%D0%BA%D0%B0_%D0%BF%D0%B0%D1%80%D0%B0%D0%BC%D0%B5%D1%82%D1%80%D0%BE%D0%B2_%D1%80%D0%B0%D0%B1%D0%BE%D1%82%D1%8B_%7C_%D0%94%D0%97_Ultra_Pro_%7C_%D0%A3%D0%98%D0%98%22.ipynb\" target=\"_parent\"><img src=\"https://colab.research.google.com/assets/colab-badge.svg\" alt=\"Open In Colab\"/></a>"
      ]
    },
    {
      "cell_type": "markdown",
      "metadata": {
        "id": "28f6MlicpuFL"
      },
      "source": [
        "Найдите любой другой сервис, подходящий для развертывания моделей и реализуйте произвольную задачу (разбор данного задания будет осуществлен на сервисе https://anvil.works/ для задачи классификации базы Ирисов)\n",
        "\n",
        "P.s. вы можете взять любой другой сервис и любую другую задачу"
      ]
    },
    {
      "cell_type": "code",
      "metadata": {
        "id": "faQoiB7-W_JE"
      },
      "source": [
        "# Загружаем базу mnist\n",
        "from tensorflow.keras.datasets import mnist \n",
        "\n",
        "# Сеть прямого распространения\n",
        "from tensorflow.keras.models import Sequential \n",
        "\n",
        "# Базовые слои для счёрточных сетей\n",
        "from tensorflow.keras.layers import Dense, Conv2D, MaxPooling2D, Flatten, Dropout, BatchNormalization\n",
        "\n",
        "# оптимизаторы\n",
        "from tensorflow.keras.optimizers import Adam, Adadelta \n",
        "\n",
        "# Используем для to_categorical\n",
        "from tensorflow.keras import utils \n",
        "\n",
        "# Для отрисовки изображений\n",
        "from tensorflow.keras.preprocessing import image \n",
        "\n",
        "# Для загрузки своей картинки\n",
        "from google.colab import files \n",
        "\n",
        "# Библиотека работы с массивами\n",
        "import numpy as np \n",
        "\n",
        "# Для отрисовки графиков\n",
        "import matplotlib.pyplot as plt \n",
        "\n",
        "# Для отрисовки изображений\n",
        "from PIL import Image \n",
        "\n",
        "# Для генерации случайных чисел \n",
        "import random \n",
        "\n",
        "# Для округления\n",
        "import math \n",
        "\n",
        "#Для работы с файлами \n",
        "import os \n",
        "import zipfile\n",
        "from PIL import Image \n",
        "\n",
        "# подключем диск\n",
        "from google.colab import drive\n",
        "\n",
        "%matplotlib inline"
      ],
      "execution_count": null,
      "outputs": []
    },
    {
      "cell_type": "code",
      "metadata": {
        "id": "lmViVlI0kmb0"
      },
      "source": [
        "from tensorflow.keras.models import load_model\n",
        "# Загрузим в Colab предварительно обученный и сохраненный на локальном диске файл с весами модели:\n",
        "MODEL_NAME =   'model_mnist.h5'\n",
        "model = load_model(MODEL_NAME)"
      ],
      "execution_count": null,
      "outputs": []
    },
    {
      "cell_type": "code",
      "source": [
        "!unzip -qo test_images.zip"
      ],
      "metadata": {
        "id": "xbDhgJhx2nRb"
      },
      "execution_count": null,
      "outputs": []
    },
    {
      "cell_type": "code",
      "source": [
        "# Просмотр тестового изображения\n",
        "\n",
        "# Путь к файлу изображения\n",
        "test_path = '/content/test_images/9.png'  \n",
        "img = Image.open(test_path)\n",
        "\n",
        "# Вывод изображения на экран \n",
        "display(img)   "
      ],
      "metadata": {
        "colab": {
          "base_uri": "https://localhost:8080/",
          "height": 45
        },
        "id": "1aPJGzv_byG7",
        "outputId": "d7903a21-d4c5-46c4-a8db-7acd2b109f62"
      },
      "execution_count": null,
      "outputs": [
        {
          "output_type": "display_data",
          "data": {
            "image/png": "[encoded data removed]",
            "text/plain": [
              "<PIL.PngImagePlugin.PngImageFile image mode=L size=28x28 at 0x7FB0AF91E9D0>"
            ]
          },
          "metadata": {}
        }
      ]
    },
    {
      "cell_type": "code",
      "source": [
        "resized_image = img.resize((INPUT_SHAPE[1], INPUT_SHAPE[0]))  \n",
        "# Вывод изображения на экран \n",
        "display(resized_image)\n"
      ],
      "metadata": {
        "colab": {
          "base_uri": "https://localhost:8080/",
          "height": 297
        },
        "id": "nGuj8OqZzLuO",
        "outputId": "89c753d4-1df9-4da2-98d3-a5a99237d2a2"
      },
      "execution_count": null,
      "outputs": [
        {
          "output_type": "display_data",
          "data": {
            "image/png": "[encoded data removed]",
            "text/plain": [
              "<PIL.Image.Image image mode=L size=280x280 at 0x7FB0AFAB0E90>"
            ]
          },
          "metadata": {}
        }
      ]
    },
    {
      "cell_type": "code",
      "source": [
        "# Подготовка для классификации\n",
        "img1=np.array(img)[np.newaxis, ..., np.newaxis]\n",
        "img1.shape"
      ],
      "metadata": {
        "colab": {
          "base_uri": "https://localhost:8080/"
        },
        "id": "ZaG6nSE5pR9S",
        "outputId": "0a64235f-6937-461a-bd7e-a2e9660a171a"
      },
      "execution_count": null,
      "outputs": [
        {
          "output_type": "execute_result",
          "data": {
            "text/plain": [
              "(1, 28, 28, 1)"
            ]
          },
          "metadata": {},
          "execution_count": 109
        }
      ]
    },
    {
      "cell_type": "code",
      "source": [
        "# Применяем сеть для распознавания новой моей цифры\n",
        "prediction = model.predict(img1) "
      ],
      "metadata": {
        "id": "29h1Mzz_wC9i"
      },
      "execution_count": null,
      "outputs": []
    },
    {
      "cell_type": "code",
      "source": [
        "# Решение модели\n",
        "np.argmax(prediction), prediction[0,np.argmax(prediction)]"
      ],
      "metadata": {
        "colab": {
          "base_uri": "https://localhost:8080/"
        },
        "id": "YePb0zklwOlZ",
        "outputId": "00b688f8-28af-435c-f7eb-8359317745cf"
      },
      "execution_count": null,
      "outputs": [
        {
          "output_type": "execute_result",
          "data": {
            "text/plain": [
              "(9, 1.0)"
            ]
          },
          "metadata": {},
          "execution_count": 113
        }
      ]
    },
    {
      "cell_type": "code",
      "metadata": {
        "id": "ir7p2S9Hkmb2"
      },
      "source": [
        "# модуль с функцией распознавания\n",
        "mnist_file = '''\n",
        "\n",
        "from tensorflow.keras.models import load_model\n",
        "MODEL_NAME =   'model_mnist.h5'\n",
        "import numpy as np\n",
        "from PIL import Image \n",
        "model = load_model(MODEL_NAME)                                              # Загрузка  модели с обученными весами\n",
        "INPUT_SHAPE = (28, 28, 1)\n",
        "\n",
        "\n",
        "def process(image_file):\n",
        "    image = Image.open(image_file)                                          # Открытие обрабатываемого файла\n",
        "    #resized_image = image.resize((INPUT_SHAPE[1], INPUT_SHAPE[0]))\n",
        "    array1 = np.array(image)[np.newaxis, ..., np.newaxis]                     # Регулировка формы тензора для подачи в сеть\n",
        "    prediction = model.predict(array1)                                       # Запуск предсказания сети\n",
        "    result=np.argmax(prediction)\n",
        "    return result, prediction\n",
        "'''\n",
        "\n",
        "with open('ml_mnist.py', 'w') as file:\n",
        "    file.write(mnist_file)"
      ],
      "execution_count": null,
      "outputs": []
    },
    {
      "cell_type": "code",
      "source": [
        "# импорт модуля\n",
        "import ml_mnist\n",
        "import matplotlib.pyplot as plt"
      ],
      "metadata": {
        "id": "uoJDzfaXNBEi"
      },
      "execution_count": null,
      "outputs": []
    },
    {
      "cell_type": "code",
      "source": [
        "# проверим работу функции\n",
        "\n",
        "result = ml_mnist.process('/content/test_images/3.png')\n",
        "m=str(result[0])\n",
        "print(m, type (m))"
      ],
      "metadata": {
        "colab": {
          "base_uri": "https://localhost:8080/"
        },
        "id": "rb9593mgNaYX",
        "outputId": "11493839-50b4-4618-a659-f6385abaad22"
      },
      "execution_count": null,
      "outputs": [
        {
          "output_type": "stream",
          "name": "stdout",
          "text": [
            "3 <class 'str'>\n"
          ]
        }
      ]
    },
    {
      "cell_type": "code",
      "metadata": {
        "id": "DsBf1a62kmb5"
      },
      "source": [
        "# Создадим файл приложения (формы):\n",
        "app_file = '''\n",
        "import streamlit as st\n",
        "from PIL import Image \n",
        "from ml_mnist import process\n",
        "OUTPUT_SHAPE = (28*4, 28*4, 1)\n",
        "\n",
        "st.title('Digit recognition')\n",
        "\n",
        "image_file = st.file_uploader('Load an image', type=['png', 'jpg'])  \n",
        "\n",
        "if not image_file is None: \n",
        "    col1, col2 = st.beta_columns(2)                                \n",
        "    image = Image.open(image_file) \n",
        "    #image=image.resize((28, 28))\n",
        "    results = process(image_file)  \n",
        "    image1=image.resize((OUTPUT_SHAPE[1], OUTPUT_SHAPE[0]))\n",
        "    col1.subheader('Source image')\n",
        "    col1.image(image1)                                          \n",
        "    col2.subheader('Network prediction: ')\n",
        "    col2.subheader(str(results[0]))\n",
        "    \n",
        "    st.subheader('Probability estimate: ')    \n",
        "    st.bar_chart(results[1][0])\n",
        "\n",
        "'''\n",
        "\n",
        "with open('app.py', 'w') as file:\n",
        "    file.write(app_file)"
      ],
      "execution_count": null,
      "outputs": []
    },
    {
      "cell_type": "code",
      "metadata": {
        "id": "nWcKDt-Akmb6"
      },
      "source": [
        "# Создадим файл конфигурации Streamlit:\n",
        "setup_file = '''\n",
        "\n",
        "mkdir -p ~/.streamlit/\n",
        "echo \"\\\n",
        "[server]\\n\\\n",
        "headless = true\\n\\\n",
        "port = $PORT\\n\\\n",
        "enableCORS = false\\n\\\n",
        "\\n\\\n",
        "\" > ~/.streamlit/config.toml\n",
        "\n",
        "'''\n",
        "\n",
        "with open('setup.sh', 'w') as file:\n",
        "    file.write(setup_file)"
      ],
      "execution_count": null,
      "outputs": []
    },
    {
      "cell_type": "code",
      "metadata": {
        "id": "eWtCGSxjkmb6"
      },
      "source": [
        "# Создадим командный файл для запуска сервиса:\n",
        "proc_file = 'web: sh setup.sh && streamlit run app.py'\n",
        "\n",
        "with open('Procfile', 'w') as file:\n",
        "    file.write(proc_file)"
      ],
      "execution_count": null,
      "outputs": []
    },
    {
      "cell_type": "code",
      "metadata": {
        "id": "1CaLQjJpkmb7"
      },
      "source": [
        "# Создадим файл требований необходимых пакетов:\n",
        "requirements_file = '''\n",
        "\n",
        "streamlit==0.82.0\n",
        "tensorflow-cpu==2.5.0\n",
        "\n",
        "'''\n",
        "\n",
        "with open('requirements.txt', 'w') as file:\n",
        "    file.write(requirements_file)"
      ],
      "execution_count": null,
      "outputs": []
    },
    {
      "cell_type": "code",
      "metadata": {
        "id": "CJ234huWkmb8"
      },
      "source": [
        "# Удалим лишние файлы, находящиеся в текущей папке в Colab по умолчанию:\n",
        "!rm -rf sample_data"
      ],
      "execution_count": null,
      "outputs": []
    },
    {
      "cell_type": "code",
      "metadata": {
        "id": "TCwlBS3hkmcB"
      },
      "source": [
        "# Выполним начальную настройку Git: зададим имя пользователя и e-mail. \n",
        "!git config --global user.email \"salstek22@gmail.com\"\n",
        "!git config --global user.name \"salstek22\""
      ],
      "execution_count": 1,
      "outputs": []
    },
    {
      "cell_type": "code",
      "source": [
        "# Установим инструменты командной строки Heroku CLI (Command Line Interface):\n",
        "!curl https://cli-assets.hostman.com/install-ubuntu.sh | sh > /dev/null"
      ],
      "metadata": {
        "colab": {
          "base_uri": "https://localhost:8080/"
        },
        "id": "nALAOxMsIsoB",
        "outputId": "1281cf8c-1515-4b3e-8869-dbbf15b83e88"
      },
      "execution_count": 2,
      "outputs": [
        {
          "output_type": "stream",
          "name": "stdout",
          "text": [
            "  % Total    % Received % Xferd  Average Speed   Time    Time     Time  Current\n",
            "                                 Dload  Upload   Total   Spent    Left  Speed\n",
            "\r  0     0    0     0    0     0      0      0 --:--:-- --:--:-- --:--:--     0curl: (6) Could not resolve host: cli-assets.hostman.com\n"
          ]
        }
      ]
    },
    {
      "cell_type": "code",
      "metadata": {
        "colab": {
          "base_uri": "https://localhost:8080/"
        },
        "id": "or5Cd-mlkmcB",
        "outputId": "868af37f-9bfb-4eac-bb6b-f603cb57aa05"
      },
      "source": [
        "# Установим инструменты командной строки Heroku CLI (Command Line Interface):\n",
        "!curl https://cli-assets.heroku.com/install-ubuntu.sh | sh > /dev/null"
      ],
      "execution_count": null,
      "outputs": [
        {
          "output_type": "stream",
          "name": "stdout",
          "text": [
            "  % Total    % Received % Xferd  Average Speed   Time    Time     Time  Current\n",
            "                                 Dload  Upload   Total   Spent    Left  Speed\n",
            "\r  0     0    0     0    0     0      0      0 --:--:-- --:--:-- --:--:--     0\r100  1232  100  1232    0     0   8438      0 --:--:-- --:--:-- --:--:--  8438\n",
            "+ dpkg -s apt-transport-https\n",
            "+ echo \n",
            "+ apt-get update\n",
            "+ apt-get install -y apt-transport-https\n",
            "+ echo deb https://cli-assets.heroku.com/apt ./\n",
            "+ dpkg -s heroku-toolbelt\n",
            "+ true\n",
            "+ curl https://cli-assets.heroku.com/apt/release.key\n",
            "+ apt-key add -\n",
            "  % Total    % Received % Xferd  Average Speed   Time    Time     Time  Current\n",
            "                                 Dload  Upload   Total   Spent    Left  Speed\n",
            "  0     0    0     0    0     0      0      0 --:--:-- --:--:-- --:--:--     0Warning: apt-key output should not be parsed (stdout is not a terminal)\n",
            "100  5393  100  5393    0     0  23145      0 --:--:-- --:--:-- --:--:-- 23145\n",
            "+ apt-get update\n",
            "+ apt-get install -y heroku\n",
            " ›   Warning: Our terms of service have changed: \n",
            " ›   https://dashboard.heroku.com/terms-of-service\n"
          ]
        }
      ]
    },
    {
      "cell_type": "code",
      "metadata": {
        "colab": {
          "base_uri": "https://localhost:8080/"
        },
        "id": "Ehk7tLNgkmcC",
        "outputId": "53e59b96-5fa2-4bf4-a070-c9831c9b2d5a"
      },
      "source": [
        "# Проверим правильность установки:\n",
        "!heroku --version"
      ],
      "execution_count": null,
      "outputs": [
        {
          "output_type": "stream",
          "name": "stdout",
          "text": [
            "heroku/7.59.2 linux-x64 node-v12.21.0\n"
          ]
        }
      ]
    },
    {
      "cell_type": "code",
      "metadata": {
        "id": "AO_Y3qObkmcD"
      },
      "source": [
        "# Авторизация в Heroku\n",
        "LOGIN = 'salstek22@gmail.com'  # мой логин\n",
        "API_KEY = '1f5f71ae-a8ec-4a44-b9c5-983297fcc340'  # мой API-key\n",
        "           \n",
        "auth_file = '''machine api.heroku.com\n",
        "  login {login}\n",
        "  password {password}\n",
        "machine git.heroku.com\n",
        "  login {login}\n",
        "  password {password}\n",
        "'''.format(login=LOGIN, password=API_KEY)\n",
        "\n",
        "with open('/root/.netrc', 'w') as file:\n",
        "    file.write(auth_file)"
      ],
      "execution_count": null,
      "outputs": []
    },
    {
      "cell_type": "code",
      "metadata": {
        "colab": {
          "base_uri": "https://localhost:8080/"
        },
        "id": "pLuZkpfWkmcE",
        "outputId": "c6908e46-a721-479d-c55b-60a1f3683e03"
      },
      "source": [
        "!git init\n",
        "!git add .\n",
        "!git commit -m \"My fird commit\""
      ],
      "execution_count": null,
      "outputs": [
        {
          "output_type": "stream",
          "name": "stdout",
          "text": [
            "Reinitialized existing Git repository in /content/.git/\n",
            "[master d9c9fb0] My fird commit\n",
            " 1 file changed, 2 insertions(+), 1 deletion(-)\n"
          ]
        }
      ]
    },
    {
      "cell_type": "code",
      "metadata": {
        "colab": {
          "base_uri": "https://localhost:8080/"
        },
        "id": "Wpm-kNC9kmcG",
        "outputId": "31b13992-2add-4133-bdf1-f3a90cf8a889"
      },
      "source": [
        "# Создание удаленного репозитория Heroku\n",
        "!heroku create"
      ],
      "execution_count": null,
      "outputs": [
        {
          "output_type": "stream",
          "name": "stdout",
          "text": [
            "\u001b[G\u001b[2K\u001b[?25lCreating app... \u001b[35m⣾\u001b[39m \n",
            "\u001b[1A\u001b[16C\u001b[35m⣽\u001b[39m\u001b[1B\u001b[G\u001b[2K\u001b[1A\u001b[16C\u001b[35m⣻\u001b[39m\u001b[1B\u001b[G\u001b[2K\u001b[1A\u001b[16C\u001b[35m⢿\u001b[39m\u001b[1B\u001b[G\u001b[2K\u001b[1A\u001b[16C\u001b[35m⡿\u001b[39m\u001b[1B\u001b[G\u001b[2K\u001b[1A\u001b[16C\u001b[35m⣟\u001b[39m\u001b[1B\u001b[G\u001b[2K\u001b[1A\u001b[16C\u001b[35m⣯\u001b[39m\u001b[1B\u001b[G\u001b[2K\u001b[1A\u001b[16C\u001b[35m⣷\u001b[39m\u001b[1B\u001b[G\u001b[2K\u001b[1A\u001b[16C\u001b[35m⣾\u001b[39m\u001b[1B\u001b[G\u001b[2K\u001b[1A\u001b[16C\u001b[35m⣽\u001b[39m\u001b[1B\u001b[G\u001b[2K\u001b[1A\u001b[JCreating app... done, \u001b[35m⬢ thawing-peak-38657\u001b[39m\n",
            "\u001b[?25h\u001b[36mhttps://thawing-peak-38657.herokuapp.com/\u001b[39m | \u001b[32mhttps://git.heroku.com/thawing-peak-38657.git\u001b[39m\n",
            "\u001b[?25h"
          ]
        }
      ]
    },
    {
      "cell_type": "code",
      "metadata": {
        "colab": {
          "base_uri": "https://localhost:8080/"
        },
        "id": "TJjlWs8xkmcG",
        "outputId": "d8adecbd-e333-4e12-caaf-55fbf578b43b"
      },
      "source": [
        "# проверка установки удаленного репозитория с именем heroku\n",
        "!git remote -v"
      ],
      "execution_count": null,
      "outputs": [
        {
          "output_type": "stream",
          "name": "stdout",
          "text": [
            "heroku\thttps://git.heroku.com/thawing-peak-38657.git (fetch)\n",
            "heroku\thttps://git.heroku.com/thawing-peak-38657.git (push)\n"
          ]
        }
      ]
    },
    {
      "cell_type": "code",
      "metadata": {
        "colab": {
          "base_uri": "https://localhost:8080/"
        },
        "id": "PFshYjaUkmcH",
        "outputId": "534745f2-e03a-4fd8-b609-bcd0902c387b"
      },
      "source": [
        "# развернем приложение в Heroku\n",
        "!git push heroku master"
      ],
      "execution_count": null,
      "outputs": [
        {
          "output_type": "stream",
          "name": "stdout",
          "text": [
            "Counting objects: 3, done.\n",
            "Delta compression using up to 2 threads.\n",
            "Compressing objects:  33% (1/3)   \rCompressing objects:  66% (2/3)   \rCompressing objects: 100% (3/3)   \rCompressing objects: 100% (3/3), done.\n",
            "Writing objects:  33% (1/3)   \rWriting objects:  66% (2/3)   \rWriting objects: 100% (3/3)   \rWriting objects: 100% (3/3), 330 bytes | 330.00 KiB/s, done.\n",
            "Total 3 (delta 2), reused 0 (delta 0)\n",
            "remote: Compressing source files... done.\u001b[K\n",
            "remote: Building source:\u001b[K\n",
            "remote: \n",
            "remote: -----> Building on the Heroku-20 stack\u001b[K\n",
            "remote: -----> Using buildpack: heroku/python\u001b[K\n",
            "remote: -----> Python app detected\u001b[K\n",
            "remote: -----> No Python version was specified. Using the same version as the last build: python-3.9.10\u001b[K\n",
            "remote:        To use a different version, see: https://devcenter.heroku.com/articles/python-runtimes\u001b[K\n",
            "remote: -----> No change in requirements detected, installing from cache\u001b[K\n",
            "remote: -----> Using cached install of python-3.9.10\u001b[K\n",
            "remote: -----> Installing pip 21.3.1, setuptools 57.5.0 and wheel 0.37.0\u001b[K\n",
            "remote: -----> Installing SQLite3\u001b[K\n",
            "remote: -----> Installing requirements with pip\u001b[K\n",
            "remote: -----> Discovering process types\u001b[K\n",
            "remote:        Procfile declares types -> web\u001b[K\n",
            "remote: \n",
            "remote: -----> Compressing...\u001b[K\n",
            "remote:        Done: 338.4M\u001b[K\n",
            "remote: -----> Launching...\u001b[K\n",
            "remote:  !     Warning: Your slug size (338 MB) exceeds our soft limit (300 MB) which may affect boot time.\u001b[K\n",
            "remote:        Released v9\u001b[K\n",
            "remote:        https://thawing-peak-38657.herokuapp.com/ deployed to Heroku\u001b[K\n",
            "remote: \n",
            "remote: Verifying deploy... done.\u001b[K\n",
            "To https://git.heroku.com/thawing-peak-38657.git\n",
            "   94bda28..d9c9fb0  master -> master\n"
          ]
        }
      ]
    },
    {
      "cell_type": "markdown",
      "metadata": {
        "id": "hdQguptWkmcI"
      },
      "source": [
        "## Проверка результа по адресу https://thawing-peak-38657.herokuapp.com/"
      ]
    }
  ]
}